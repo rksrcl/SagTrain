{
 "cells": [
  {
   "cell_type": "code",
   "execution_count": 31,
   "id": "a1812037-d89c-4ae0-a274-adddd79057cc",
   "metadata": {},
   "outputs": [
    {
     "data": {
      "text/plain": [
       "'/homes/gws/jc383/WindowsFolders/Desktop/DrosSag/bin/python3'"
      ]
     },
     "execution_count": 31,
     "metadata": {},
     "output_type": "execute_result"
    }
   ],
   "source": [
    "import sys\n",
    "sys.executable"
   ]
  },
  {
   "cell_type": "code",
   "execution_count": 43,
   "id": "76352554-0454-411a-8bca-8042aa671824",
   "metadata": {},
   "outputs": [
    {
     "name": "stderr",
     "output_type": "stream",
     "text": [
      "/tmp/ipykernel_1544300/913425730.py:20: DtypeWarning: Columns (19) have mixed types. Specify dtype option on import or set low_memory=False.\n",
      "  meta = pd.read_csv(\"../data_utils/data/static/meta.csv\")\n"
     ]
    }
   ],
   "source": [
    "from scipy.stats import spearmanr\n",
    "import pandas as pd\n",
    "import numpy as np\n",
    "import logging\n",
    "import torch\n",
    "import csv\n",
    "import sys\n",
    "import os\n",
    "import anndata as ad\n",
    "\n",
    "sys.path.append(os.path.join(sys.path[0], '../'))\n",
    "from data_utils import utils\n",
    "\n",
    "columns_metadata = pd.read_csv(\"../data_utils/data/static/GSE190147_scirnaseq_gene_matrix.columns.csv\", delimiter=\"\\t\")\n",
    "rows_metadata = pd.read_csv(\"../data_utils/data/static/GSE190147_scirnaseq_gene_matrix.rows.csv\", delimiter=\"\\t\")\n",
    "gene_expression_matrix = pd.read_csv(\"../data_utils/data/static/GSE190147_scirnaseq_gene_matrix.txt\", delimiter=\" \")\n",
    "gene_expression_matrix_file = \"../data_utils/data/static/GSE190147_scirnaseq_gene_matrix.txt\"\n",
    "columns_metadata_file = \"../data_utils/data/static/GSE190147_scirnaseq_gene_matrix.columns.csv\"\n",
    "rows_metadata_file = \"../data_utils/data/static/GSE190147_scirnaseq_gene_matrix.rows.csv\"\n",
    "meta = pd.read_csv(\"../data_utils/data/static/meta.csv\")\n"
   ]
  },
  {
   "cell_type": "code",
   "execution_count": 33,
   "id": "898b6fc0-95ae-41b4-8ceb-45eac1e1da40",
   "metadata": {},
   "outputs": [],
   "source": [
    "# general setup\n",
    "selected_clusters = [5, 6, 7, 8, 9]\n",
    "selected_time_points = ['hrs_00_02', 'hrs_01_03', 'hrs_02_04', 'hrs_03_07', 'hrs_04_08']\n",
    "samples_per_time_point = 4"
   ]
  },
  {
   "cell_type": "code",
   "execution_count": 35,
   "id": "934defe5-d9fc-4c25-b560-26cc51a0c0b9",
   "metadata": {},
   "outputs": [],
   "source": [
    "# first for train set\n",
    "utils.filter_by_seurat_cluster(meta, selected_clusters, selected_time_points, samples_per_time_point, '12311130_train_meta.csv', set())\n",
    "\n",
    "# this is the big one\n",
    "# believe this one barely hiccupped\n",
    "filt_meta_df = pd.read_csv('12311130_train_meta.csv')\n",
    "utils.filter_expr(columns_metadata, gene_expression_matrix, filt_meta_df, 'exp1_filtered_matrix.csv')"
   ]
  },
  {
   "cell_type": "code",
   "execution_count": 51,
   "id": "34cb23dc-f7dd-40dc-a4fc-8a6be97faf16",
   "metadata": {},
   "outputs": [
    {
     "name": "stdout",
     "output_type": "stream",
     "text": [
      "['93 1 1']\n",
      "93\n",
      "1\n",
      "1\n"
     ]
    },
    {
     "ename": "NameError",
     "evalue": "name 'gene_names' is not defined",
     "output_type": "error",
     "traceback": [
      "\u001b[0;31m---------------------------------------------------------------------------\u001b[0m",
      "\u001b[0;31mNameError\u001b[0m                                 Traceback (most recent call last)",
      "Cell \u001b[0;32mIn[51], line 32\u001b[0m\n\u001b[1;32m     30\u001b[0m     result_df\u001b[38;5;241m.\u001b[39mto_csv(output_file, index\u001b[38;5;241m=\u001b[39m\u001b[38;5;28;01mFalse\u001b[39;00m)\n\u001b[1;32m     31\u001b[0m create_genes_list(gene_expression_matrix_file, rows_metadata, \u001b[38;5;124m'\u001b[39m\u001b[38;5;124mGENES_LIST_FINAL.csv\u001b[39m\u001b[38;5;124m'\u001b[39m, \u001b[38;5;28;01mTrue\u001b[39;00m)\n\u001b[0;32m---> 32\u001b[0m utils\u001b[38;5;241m.\u001b[39mcreate_gene_dict(\u001b[43mgene_names\u001b[49m, \u001b[38;5;124m'\u001b[39m\u001b[38;5;124mGENES_MAPPING_FINAL.txt\u001b[39m\u001b[38;5;124m'\u001b[39m)\n",
      "\u001b[0;31mNameError\u001b[0m: name 'gene_names' is not defined"
     ]
    }
   ],
   "source": [
    "# only want to do once, put in entire matrix file\n",
    "# THIS ONE LITERALLY TAKES FOREVERRRR\n",
    "def create_genes_list(filtered_from_ordered_meta, rows_metadata, output_file, header):\n",
    "    result_data = []\n",
    "    with open(filtered_from_ordered_meta, \"r\") as matrix_file:\n",
    "        csv_reader = csv.reader(matrix_file)\n",
    "        if header:\n",
    "            next(csv_reader)\n",
    "            next(csv_reader)\n",
    "        counter = 0\n",
    "        for line in csv_reader:\n",
    "            try:\n",
    "                if counter == 0:\n",
    "                    print(line)\n",
    "                counter += 1\n",
    "                row_idx, col_idx, value = [int(l) for l in line[0].split()]\n",
    "                if counter == 1:\n",
    "                    print(row_idx)\n",
    "                    print(col_idx)\n",
    "                    print(value)\n",
    "                    counter += 1\n",
    "                        \n",
    "            except ValueError as ve:\n",
    "                logging.error(f\"Error parsing line: {line} - {ve}\")\n",
    "                continue\n",
    "            gene_name = rows_metadata.iloc[row_idx - 2, 0]\n",
    "            result_data.append([gene_name])\n",
    "            \n",
    "    result_df = pd.DataFrame(result_data, columns=['gene_name'])\n",
    "\n",
    "    result_df.to_csv(output_file, index=False)\n",
    "create_genes_list(gene_expression_matrix_file, rows_metadata, 'GENES_LIST_FINAL.csv', True)\n",
    "utils.create_gene_dict('GENES_LIST_FINAL.csv', 'GENES_MAPPING_FINAL.txt')"
   ]
  },
  {
   "cell_type": "code",
   "execution_count": 52,
   "id": "2658471e-05eb-4186-9c0c-e8dc2df0b363",
   "metadata": {},
   "outputs": [
    {
     "name": "stdout",
     "output_type": "stream",
     "text": [
      "Taf12\n"
     ]
    }
   ],
   "source": [
    "utils.create_gene_dict('GENES_LIST_FINAL.csv', 'GENES_MAPPING_FINAL.txt')"
   ]
  },
  {
   "cell_type": "code",
   "execution_count": 53,
   "id": "ff0e7635-64c5-4265-b3ef-5d38a39d821b",
   "metadata": {},
   "outputs": [],
   "source": [
    "# last one! deal with ys\n",
    "utils.map_cell_id('12311130_train_meta.csv', 'seurat_clusters_dict.txt')"
   ]
  },
  {
   "cell_type": "code",
   "execution_count": 62,
   "id": "0bd3755d-6626-4265-8c22-b3d6b7588763",
   "metadata": {},
   "outputs": [
    {
     "name": "stdout",
     "output_type": "stream",
     "text": [
      "{'exp10_idx1AATACGATAA_idx2AACTTATAAG.GTAAGCTCTCGACGCGACT', 'exp10_idx1TTGCGAGCAT_idx2CGACTACCAA.TCCTATAAGTAATCGATAAT', 'exp10_idx1AATACGATAA_idx2AACTTATAAG.CGTACCTATGAACTGCATC', 'exp2_idx1AGACCATATC_idx2TGCCAGATGG.CCGTCGATTTATCATGATC', 'exp11_idx1AGTCTATCGT.TTGGAGTTATTGATACGAGT', 'exp10_idx1ACGGCGTTAA_idx2ACCGTTACGA.TATGAGAACTTCCTACCAGT', 'exp4_idx1GGTTATCGAA_idx2GTTCCGACGA.TAGATGACTTTCCGGCCTCG', 'exp12_idx1CGTCGAGCGC.ATATGGATCTTTGGACGCTG', 'exp1_idx1GCGCGTTCAT_idx2CCTATAAGCT.TTGGCAATATGGCCAGTCCG', 'exp11_idx1TCGCCGCCGG.TTCTCATTGTAGGCCGCTCG', 'exp11_idx1TCTTGAGGTT.AACGAGCGTTCGCTAAGCA', 'exp1_idx1GTAGCAGCTA_idx2CTAACTCCAA.TTCGCATAATTGCGCGATGC', 'exp10_idx1AGTCCGCTGC_idx2GTTGACGGCC.GGAGCTCATTCCTACCAGT', 'exp11_idx1ATCTACCAGT.ATGGTAACTTTCGATATTGA', 'exp10_idx1GATTCTTGAA_idx2CAAGATTAAG.GTCATCTGTGATACGGAAC', 'exp10_idx1AATACGATAA_idx2AACTACCGAC.GGTTCGAGTGGTATGCTTG', 'exp1_idx1GTAGGCTGCA_idx2TGAGGTAGAA.CGAGATGCTTATCGTCGGC', 'exp10_idx1AATACGATAA_idx2ACGTTCAACC.TTATAGGCATCTCGATGGAG', 'exp11_idx1CTCTATAGAA.ATTAGGTACTTTACCGAGGC', 'exp11_idx1CCAGTAGAGT.CAGATCAGTGTTCTGAATT', 'exp10_idx1AATACGATAA_idx2CTCGATGGAG.GAAGAGGCTACTCTCTCAA', 'exp1_idx1GTAGGCTGCA_idx2CTGCAATCGC.TGCCTATTATCGCGTACGAC', 'exp10_idx1GCGCGTTCAT_idx2GATGATCGTA.TCAGGAGATCGGCGAGACC', 'exp11_idx1TTGAGTCATG.AAGGATTACTTTATTATGGT', 'exp11_idx1AGGAGCGCGT.ATTAGTCTGTCTTCGGCGCA', 'exp10_idx1AGTCCGCTGC_idx2TGGCGTAGGT.TAGAGCCTTGTTGACGGCC', 'exp10_idx1AATACGATAA_idx2TGATACGAGT.TCGAGAAGTCCGCTATATT', 'exp2_idx1GTAGCAGCTA_idx2TCATCTAATC.ACTTATGGTTGTATCATCGA', 'exp10_idx1GCGCGTTCAT_idx2AGGATTACCA.CTTCGACTTGAACTGCATC', 'exp2_idx1GTAGCAGCTA_idx2ACGAGGACCT.TGAATCTGATGAGCATATGG', 'exp10_idx1AGGTCAGCTT_idx2CGAAGGACGA.GTTGCAAGTTCCTACCAGT', 'exp10_idx1GTAGCAGCTA_idx2AGTCCGCGGA.TTCGCATAATCGGATTAGAA', 'exp10_idx1ACGGCGTTAA_idx2AGCGTCAATG.TATCGAACTTTCGTAGAGAA', 'exp1_idx1GTAGGCTGCA_idx2TGAGGTAGAA.TTGGTTAAGTGGCCAGTCCG', 'exp10_idx1AATACGATAA_idx2GCTCTAACGA.TATCTCGATTGGATGCAGCA', 'exp10_idx1ACGGCGTTAA_idx2TCCGTCGCCA.TCTTAGTTCTGGTATGCTTG', 'exp4_idx1ATGGCGCCTG_idx2AGGTCAATTA.CGAATGAGTGGCTCTCTAT', 'exp10_idx1TGGACGACTA_idx2TGATACGAGT.TTTGCTTAGTACTCAATAGG', 'exp1_idx1TGGACGACTA_idx2ACTCTCTCAA.GCGGTATATGCGTTCAGCT', 'exp10_idx1AGACCATATC_idx2GATCAGTCAT.GGAGGTTCTTGATGGCCTT', 'exp11_idx1TGATTAGGTA.TGAGAATCATAACCATTGGA', 'exp11_idx1CAACCTCGTC.GTCTATGGTCGAACGCCGG', 'exp11_idx1CCTCGTCAGA.TCGTAGCGTCAGATTCGAT', 'exp11_idx1CTAGCCAGCC.GGCTAAGATAAGACGGCCA', 'exp10_idx1TGGACGACTA_idx2ACGTTCAACC.CTGAGCATTACTGCCGATA', 'exp10_idx1AATACGATAA_idx2CTCCGGTTCT.TTCTTAACCTCGACGCGACT', 'exp10_idx1GGTTATCGAA_idx2GCTCTCGCCT.TAATACCAGTCTGATGGTCA', 'exp10_idx1AATACGATAA_idx2AACTTATAAG.TCATGGCTTCTCGATGGAG', 'exp10_idx1GCATCGTATG_idx2CCTATAAGCT.TTCCATCTTTGTTGACGGCC', 'exp1_idx1TGGACGACTA_idx2ACTCTCTCAA.TTCAACTGATGCGTTCAGCT', 'exp10_idx1AATACGATAA_idx2CTCCGGTTCT.GCTGGCTATCCGCTATATT', 'exp10_idx1AATACGATAA_idx2AACTTATAAG.TCTCGCTCTTGATGGCCTT', 'exp11_idx1AATAAGCCTC.TGTTAAGACTATCAACGATT', 'exp12_idx1GCAAGACCGT.ACGGCAATTTTGGTCATAA', 'exp10_idx1GCATCGTATG_idx2AACCTAGCTT.TCTTAGTTCTGTTGACGGCC', 'exp10_idx1TCCTCTGCCG_idx2CATGCATCTC.CTGAGCATTTTGACTTCAG', 'exp11_idx1GGTCCGATGG.TCCTCGAGTACCTCTATCT', 'exp10_idx1AATACGATAA_idx2TCTAGAACTA.GAACGGCTTGTTGACGGCC', 'exp11_idx1AACGAATTCG.GTACCTCTTCGGTTGCGCG', 'exp11_idx1AACCAACCAG.ACAGGTATTTTTATTCTGAG', 'exp10_idx1GTAGCAGCTA_idx2CTAACTCCAA.GTCATCTGTCTCGTCTAGG', 'exp10_idx1ACGGCGTTAA_idx2ACCGTTACGA.CCTAATGGTAATCGATAAT', 'exp10_idx1TGGACGACTA_idx2AGCGTCAATG.TATCATGAGTACCGTTACGA', 'exp11_idx1GACTGGACCA.TGGTCTCCTTAGAATTAAC', 'exp11_idx1TATTCTCCGT.CTAACGACTAAGTCTTCCG', 'exp12_idx1CTCGTCGTAG.CCGTCTCATGGACTACTAC', 'exp11_idx1GCGCTATGGT.ATGCTTCCTCCATAAGTCC', 'exp10_idx1ATGGCGCCTG_idx2GACTAGTCTA.TGATGCGATTGGAAGTACC', 'exp11_idx1CTTGACTAGA.ATATCCTACTATATTGATAC', 'exp10_idx1AATACGATAA_idx2GCTCTAACGA.TATAAGGCTTCGCCGCCTCC', 'exp11_idx1AGTCCGCTGC.TTCGCGGATCCGATTCCTG', 'exp12_idx1CTATATAGCC.CAACTCTCTCCGATTCCTG', 'exp11_idx1AGGAGCGCGT.GCCATGGTTGCCATTCTCC', 'exp11_idx1TTAAGTTAAT.GAACGGCTTTACTTACTTA', 'exp11_idx1TCGCCGCCGG.ACAGGTATTTATTGCGCTGA', 'exp1_idx1TAGGTAACTT_idx2ACCGTTACGA.TCATTAAGCTAACTGCTGCC', 'exp10_idx1AGACCATATC_idx2AGGATTACCA.TGATCTTCTTGGATGCAGCA', 'exp10_idx1AGGTCAGCTT_idx2TCCGGTAATC.TCGTCTATTTCAAGTACTGG', 'exp10_idx1GTAGCAGCTA_idx2CGAAGGACGA.ATATCCTACTTCCGGCCTCG', 'exp10_idx1AATACGATAA_idx2AACTTATAAG.TAGTTACCTTTCGTAGAGAA', 'exp2_idx1GCTTGAAGAG_idx2TTAGATTCCG.CAAGCAACTTTGCTGGCAT', 'exp11_idx1GCGCGTTCAT.GTCGGCAATCGCTCCTAAC', 'exp11_idx1CTCCTCATTC.CAGAAGGCTGCTCTCGCCT', 'exp2_idx1GCTTGAAGAG_idx2AGATCCTATA.GGTCAGTTTGGTACCGGCA', 'exp11_idx1TCTAATGAAG.TTGACCAGTATCAACGATT', 'exp10_idx1AGTCCGCTGC_idx2CGGCGAGACC.GTATCGCATGTTGACGGCC', 'exp11_idx1TTCATATCAA.ACCGGTTCTCCGCGGACCG', 'exp10_idx1AATACGATAA_idx2GCTCTAACGA.TTAATGAGCTGGTATGCTTG', 'exp2_idx1TTCCGTCGAC_idx2AGCGTCAATG.CAAGGCGTTTAACGAATTG', 'exp10_idx1AATACGATAA_idx2TCTAGAACTA.GCTGGCTATCGCCGCCTCC', 'exp10_idx1ATGGCGCCTG_idx2GTTGACGGCC.TCCTATAAGTACTCAATAGG', 'exp11_idx1AATACGATAA.TAGTTACCTTACTTAACCTT', 'exp10_idx1ATAAGGACTC_idx2TGGCGTAGGT.AACTGGCATTCTTGCCGAC', 'exp10_idx1AGACCATATC_idx2CTCGTCTAGG.GACCAGGATTTGACTTCAG', 'exp10_idx1AATACGATAA_idx2ACGTTCAACC.TCCAAGTTATAACCTGCGTA', 'exp12_idx1GCTTGAAGAG.AGCATAACTTCAGATTCGAT', 'exp12_idx1ATTCTTAGCT.CTCCATCATAACTAGGCGC', 'exp2_idx1TAGTAAGCCG_idx2CCAAGCTGAA.CTCCATCATCCGTTCGGAT', 'exp10_idx1AATACGATAA_idx2TGATACGAGT.TAGAGCCTTCGCCGCCTCC', 'exp10_idx1GCATCGTATG_idx2AGCGTCAATG.TGAGTTAGATTCCTACCAGT'}\n",
      "100\n"
     ]
    }
   ],
   "source": [
    "# now for test set\n",
    "df = pd.read_csv('../data_utils/data/exp1/12311130_train_meta.csv')\n",
    "cell_id = set(df['cell'])\n",
    "print(cell_id)\n",
    "print(len(cell_id))\n",
    "\n",
    "utils.filter_by_seurat_cluster(meta, selected_clusters, selected_time_points, samples_per_time_point, '12311130_test_meta.csv', cell_id)\n",
    "\n",
    "filt_test_meta = pd.read_csv('12311130_test_meta.csv')\n",
    "utils.filter_expr(columns_metadata, gene_expression_matrix, filt_test_meta, 'exp1_filtered_matrix_TEST.csv')"
   ]
  },
  {
   "cell_type": "code",
   "execution_count": 63,
   "id": "1f93b882-270a-483c-83cc-dc9a3a79158a",
   "metadata": {},
   "outputs": [],
   "source": [
    "# ok actually last one\n",
    "utils.map_cell_id('12311130_test_meta.csv', 'seurat_clusters_dict_TEST.txt')"
   ]
  },
  {
   "cell_type": "code",
   "execution_count": null,
   "id": "5a592faf-40d0-4b71-8106-8d4d1bd9fa4c",
   "metadata": {},
   "outputs": [],
   "source": []
  }
 ],
 "metadata": {
  "kernelspec": {
   "display_name": "Python 3 (ipykernel)",
   "language": "python",
   "name": "python3"
  },
  "language_info": {
   "codemirror_mode": {
    "name": "ipython",
    "version": 3
   },
   "file_extension": ".py",
   "mimetype": "text/x-python",
   "name": "python",
   "nbconvert_exporter": "python",
   "pygments_lexer": "ipython3",
   "version": "3.9.18"
  }
 },
 "nbformat": 4,
 "nbformat_minor": 5
}
