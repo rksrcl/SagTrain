{
 "cells": [
  {
   "cell_type": "code",
   "execution_count": 3,
   "id": "6663c029-2346-4603-8688-18ef4a0a1887",
   "metadata": {},
   "outputs": [],
   "source": [
    "from scipy.stats import spearmanr\n",
    "import pandas as pd\n",
    "import numpy as np\n",
    "import logging\n",
    "import torch\n",
    "import csv\n",
    "from tqdm import tqdm\n",
    "import anndata as ad\n",
    "import scipy.sparse as sp\n",
    "from scipy.io import mmwrite\n",
    "from io import StringIO\n",
    "from evaluate_results import get_ranked_pearson_corr\n",
    "from evaluate_results import compute_rmse\n",
    "import matplotlib.pyplot as plt\n",
    "from sklearn.manifold import TSNE\n",
    "import seaborn as sns\n",
    "from collections import defaultdict\n",
    "\n",
    "import sys\n",
    "import os\n",
    "\n",
    "sys.path.append(os.path.join(sys.path[0], '../'))\n",
    "from model.manager_for_sagittarius import Sagittarius_Manager\n",
    "\n",
    "columns_metadata = pd.read_csv(\"../data_utils/data/static/GSE190147_scirnaseq_gene_matrix.columns.csv\", delimiter=\"\\t\")\n",
    "rows_metadata = pd.read_csv(\"../data_utils/data/static/GSE190147_scirnaseq_gene_matrix.rows.csv\", delimiter=\"\\t\")\n",
    "gene_expression_matrix = pd.read_csv(\"../data_utils/data/static/GSE190147_scirnaseq_gene_matrix.txt\", delimiter=\" \")\n",
    "gene_expression_matrix_file = \"../data_utils/data/static/GSE190147_scirnaseq_gene_matrix.txt\"\n",
    "columns_metadata_file = \"../data_utils/data/static/GSE190147_scirnaseq_gene_matrix.columns.csv\"\n",
    "rows_metadata_file = \"../data_utils/data/static/GSE190147_scirnaseq_gene_matrix.rows.csv\"\n",
    "gene_expression_mtx = \"../data_utils/data/static/GSE190147_scirnaseq_gene_matrix.mtx\"\n"
   ]
  },
  {
   "cell_type": "code",
   "execution_count": 5,
   "id": "c991e6f2-0f07-4640-9272-5d3fed41f646",
   "metadata": {},
   "outputs": [],
   "source": [
    "# map cell id to seurat cluster\n",
    "\n",
    "cell_type_mapping = {}\n",
    "with open('../data_utils/data/exp1/seurat_clusters_dict.txt', 'r') as file:\n",
    "    for line in file:\n",
    "        parts = line.strip().split(': ')\n",
    "        key = parts[0].strip()\n",
    "        value = int(parts[1].strip())\n",
    "        cell_type_mapping[key] = value\n"
   ]
  },
  {
   "cell_type": "code",
   "execution_count": 6,
   "id": "cd7719f2-5403-462d-85e4-8b822219acc5",
   "metadata": {},
   "outputs": [],
   "source": [
    "# 5 timepoints\n",
    "timepoints = ['hrs_00_02', 'hrs_01_03', 'hrs_02_04', 'hrs_03_07', 'hrs_04_08']\n",
    "\n",
    "time_mapping = {\n",
    "    'hrs_00_02': 0,\n",
    "    'hrs_01_03': 1,\n",
    "    'hrs_02_04': 2,\n",
    "    'hrs_03_07': 3, \n",
    "    'hrs_04_08': 4, \n",
    "    'hrs_06_10': 5, \n",
    "    'hrs_08_12': 6,\n",
    "    'hrs_10_14': 7,\n",
    "    'hrs_12_16': 8, \n",
    "    'hrs_14_18': 9,\n",
    "    'hrs_16_20': 10, \n",
    "}"
   ]
  },
  {
   "cell_type": "code",
   "execution_count": 9,
   "id": "63d1c1bb-2fa3-4d5c-940e-9c1392928297",
   "metadata": {},
   "outputs": [],
   "source": [
    "# create mapping for the genes for train expr\n",
    "# 'gene_types_dict.txt' - as created by create_gene_dict()\n",
    "\n",
    "gene_types = {}\n",
    "with open('../data_utils/data/static/GENES_MAPPING_FINAL.txt', 'r') as file:\n",
    "    for line in file:\n",
    "        parts = line.strip().split(': ')\n",
    "        key = parts[0].strip()\n",
    "        value = int(parts[1].strip())\n",
    "        gene_types[key] = value\n"
   ]
  },
  {
   "cell_type": "code",
   "execution_count": 32,
   "id": "393f05bb-046c-422e-8f6f-e554d2d1ca51",
   "metadata": {},
   "outputs": [
    {
     "data": {
      "text/plain": [
       "\"\\n\\ncell_id = {}\\nwith open('cell_ids_dict.txt', 'r') as file:\\n    for line in file:\\n        parts = line.strip().split(': ')\\n        key = parts[0].strip()\\n        value = int(parts[1].strip())\\n        cell_id[key] = value\\n\""
      ]
     },
     "execution_count": 32,
     "metadata": {},
     "output_type": "execute_result"
    }
   ],
   "source": [
    "# set up which indices cell ids will match to\n",
    "# shouldn't matter as much though\n",
    "\"\"\"\n",
    "\n",
    "cell_id = {}\n",
    "with open('cell_ids_dict.txt', 'r') as file:\n",
    "    for line in file:\n",
    "        parts = line.strip().split(': ')\n",
    "        key = parts[0].strip()\n",
    "        value = int(parts[1].strip())\n",
    "        cell_id[key] = value\n",
    "\"\"\"\n"
   ]
  },
  {
   "cell_type": "code",
   "execution_count": 11,
   "id": "52285f82-8a6b-4ffc-b149-5db47caf40ba",
   "metadata": {},
   "outputs": [],
   "source": [
    "# set up training inputs\n",
    "N = 100 # number of samples\n",
    "T = 1\n",
    "M = len(gene_types)\n",
    "expr = torch.zeros(N, T, M)\n",
    "ys_tensor = torch.zeros(N, T)\n",
    "ts = torch.zeros(N, T)"
   ]
  },
  {
   "cell_type": "code",
   "execution_count": 13,
   "id": "611be34b-04cf-47da-9730-e2323aae365f",
   "metadata": {},
   "outputs": [
    {
     "name": "stderr",
     "output_type": "stream",
     "text": [
      "Processing: 36333it [00:02, 15335.89it/s]"
     ]
    },
    {
     "name": "stdout",
     "output_type": "stream",
     "text": [
      "100\n"
     ]
    },
    {
     "name": "stderr",
     "output_type": "stream",
     "text": [
      "\n"
     ]
    }
   ],
   "source": [
    "# main loop for populating expr\n",
    "cell_id = set()\n",
    "\n",
    "with open(\"../data_utils/data/exp1/exp1_filtered_matrix.csv\", \"r\") as matrix_file:\n",
    "    csv_reader = csv.reader(matrix_file)\n",
    "    next(csv_reader)\n",
    "\n",
    "    for line in tqdm(csv_reader, desc=\"Processing\"):\n",
    "        try:\n",
    "            row_idx, col_idx, value = map(int, line)\n",
    "                    \n",
    "        except ValueError as ve:\n",
    "            logging.error(f\"Error parsing line: {line.strip()} - {ve}\")\n",
    "            continue\n",
    "        \n",
    "        tp = columns_metadata.iloc[col_idx, 4]\n",
    "        \n",
    "        cell_type = columns_metadata.iloc[col_idx, 0] # when i say cell_type i mean id\n",
    "        gene_name = rows_metadata.iloc[row_idx - 2, 0]\n",
    "\n",
    "        # sanity check\n",
    "        # assert (expr[cell_id[cell_type] - 1, 0, gene_types[gene_name]] != 0)\n",
    "        # assert(expr[[counter], 0, gene_types[gene_name]] != 0)\n",
    "        cell_id.add(cell_type)\n",
    "        expr[len(cell_id) - 1, 0, gene_types[gene_name]] = value\n",
    "        ys_tensor[len(cell_id) - 1, 0] = cell_type_mapping[cell_type]\n",
    "        ts[len(cell_id) - 1, 0] = time_mapping[tp]\n",
    "        \n",
    "print(len(cell_id))\n",
    "ys = [ys_tensor]"
   ]
  },
  {
   "cell_type": "code",
   "execution_count": 15,
   "id": "f3b9c75f-5b53-4e42-afb3-2e4292b27e20",
   "metadata": {},
   "outputs": [],
   "source": [
    "# create mask\n",
    "mask = torch.zeros(N, T)\n",
    "for i in range(N):\n",
    "    for j in range(T):\n",
    "        if not (expr[i, j, :] == 0).all():\n",
    "            mask[i, j] = 1"
   ]
  },
  {
   "cell_type": "code",
   "execution_count": 17,
   "id": "7b7ac336-dc3b-4157-8b9b-9a1613f29ef3",
   "metadata": {},
   "outputs": [
    {
     "name": "stdout",
     "output_type": "stream",
     "text": [
      "h\n"
     ]
    },
    {
     "name": "stderr",
     "output_type": "stream",
     "text": [
      "100%|███████████████████████████████████████| 1000/1000 [01:35<00:00, 10.47it/s]\n"
     ]
    }
   ],
   "source": [
    "manager = Sagittarius_Manager(\n",
    "    input_dim=M,\n",
    "    num_classes=1, \n",
    "    class_sizes=[54],\n",
    "    cvae_catdims=[2],\n",
    "    cvae_hiddendims=[128, 64],\n",
    "    cvae_ld=32,\n",
    "    attn_heads=4,\n",
    "    num_ref_points=10,\n",
    "    temporal_dim=16,\n",
    "    tr_catdims=[8],\n",
    "    minT=0,\n",
    "    maxT=10, \n",
    "    device='cpu',\n",
    "    transformer_dim=None, # Not using encoder/decoder for this experiment\n",
    "    batch_size=16,\n",
    "    beta=1.0,\n",
    "    train_transfer=False, \n",
    "    num_cont=1, # Only continuous variable is time\n",
    "    rec_loss='mse'\n",
    ")\n",
    "\n",
    "weights = '11313exp1.pth'\n",
    "manager.train_model(expr, ts, ys, mask, reload=False, mfile=weights, num_epochs=1000, lr=0.001)"
   ]
  },
  {
   "cell_type": "code",
   "execution_count": 21,
   "id": "aef6ae8a-256f-4fb5-a6d3-bdbd5a163a21",
   "metadata": {},
   "outputs": [
    {
     "name": "stderr",
     "output_type": "stream",
     "text": [
      "Processing: 37078it [00:02, 14869.73it/s]"
     ]
    },
    {
     "name": "stdout",
     "output_type": "stream",
     "text": [
      "100\n"
     ]
    },
    {
     "name": "stderr",
     "output_type": "stream",
     "text": [
      "\n"
     ]
    }
   ],
   "source": [
    "# set up test set training\n",
    "\n",
    "N = 100 # number of samples\n",
    "T = 1\n",
    "M = len(gene_types)\n",
    "test_expr = torch.zeros(N, T, M)\n",
    "test_ys_tensor = torch.zeros(N, T)\n",
    "test_ts = torch.zeros(N, T)\n",
    "\n",
    "cell_type_mapping = {}\n",
    "with open('../data_utils/data/exp1/seurat_clusters_dict_TEST.txt', 'r') as file:\n",
    "    for line in file:\n",
    "        parts = line.strip().split(': ')\n",
    "        key = parts[0].strip()\n",
    "        value = int(parts[1].strip())\n",
    "        cell_type_mapping[key] = value\n",
    "\n",
    "cell_id = set()\n",
    "with open(\"../data_utils/data/exp1/exp1_filtered_matrix_TEST.csv\", \"r\") as matrix_file:\n",
    "    csv_reader = csv.reader(matrix_file)\n",
    "    next(csv_reader)\n",
    "\n",
    "    for line in tqdm(csv_reader, desc=\"Processing\"):\n",
    "        try:\n",
    "            row_idx, col_idx, value = map(int, line)\n",
    "                    \n",
    "        except ValueError as ve:\n",
    "            logging.error(f\"Error parsing line: {line.strip()} - {ve}\")\n",
    "            continue\n",
    "        \n",
    "        tp = columns_metadata.iloc[col_idx, 4]\n",
    "        \n",
    "        cell_type = columns_metadata.iloc[col_idx, 0] # when i say cell_type i mean id\n",
    "        gene_name = rows_metadata.iloc[row_idx - 2, 0]\n",
    "\n",
    "        cell_id.add(cell_type)\n",
    "        test_expr[len(cell_id) - 1, 0, gene_types[gene_name]] = value\n",
    "        test_ys_tensor[len(cell_id) - 1, 0] = cell_type_mapping[cell_type]\n",
    "        test_ts[len(cell_id) - 1, 0] = time_mapping[tp]\n",
    "        \n",
    "print(len(cell_id))\n",
    "test_ys = [test_ys_tensor]\n",
    "test_mask = torch.zeros(N, T)\n",
    "for i in range(N):\n",
    "    for j in range(T):\n",
    "        if not (test_expr[i, j, :] == 0).all():\n",
    "            test_mask[i, j] = 1"
   ]
  },
  {
   "cell_type": "code",
   "execution_count": 23,
   "id": "e76a0ae3-9957-42fa-ab26-a5c1541e1684",
   "metadata": {},
   "outputs": [
    {
     "name": "stdout",
     "output_type": "stream",
     "text": [
      "h\n",
      "torch.Size([100, 21216])\n"
     ]
    }
   ],
   "source": [
    "manager = Sagittarius_Manager(\n",
    "    input_dim=M,\n",
    "    num_classes=1, \n",
    "    class_sizes=[54],\n",
    "    cvae_catdims=[2],\n",
    "    cvae_hiddendims=[128, 64],\n",
    "    cvae_ld=32,\n",
    "    attn_heads=4,\n",
    "    num_ref_points=10,\n",
    "    temporal_dim=16,\n",
    "    tr_catdims=[8],\n",
    "    minT=0,\n",
    "    maxT=10, \n",
    "    device='cpu',\n",
    "    transformer_dim=None, # Not using encoder/decoder for this experiment\n",
    "    batch_size=16,\n",
    "    beta=1.0,\n",
    "    train_transfer=False, \n",
    "    num_cont=1, # Only continuous variable is time\n",
    "    rec_loss='mse'\n",
    ")\n",
    "weights = 'weights/11313exp1.pth'\n",
    "manager.train_model(test_expr, test_ts, test_ys, test_mask, reload=True, mfile=weights)\n",
    "newpred = manager.reconstruct()\n",
    "print(newpred.shape)\n",
    "\n",
    "# hold a copy\n",
    "pred = newpred\n",
    "\n",
    "gt = test_expr\n",
    "gt = torch.masked_select(test_expr,torch.stack([test_mask.bool() for _ in range(M)], dim = -1)).view(-1, M)\n",
    "\n",
    "# at this point pred = newpred, gt and pred have the same dimensions and are 2D"
   ]
  },
  {
   "cell_type": "code",
   "execution_count": 24,
   "id": "e8453494-a119-442c-a78a-6aaf78273123",
   "metadata": {},
   "outputs": [
    {
     "name": "stdout",
     "output_type": "stream",
     "text": [
      "[SignificanceResult(statistic=0.18891165988060987, pvalue=0.0008456446551234612), SignificanceResult(statistic=0.11355758472798937, pvalue=0.14518595270038), SignificanceResult(statistic=0.09867799736237928, pvalue=0.07000525821856098), SignificanceResult(statistic=0.149132868595085, pvalue=0.0030781932508628317), SignificanceResult(statistic=0.0802086740661122, pvalue=0.16871585237984266), SignificanceResult(statistic=0.1285859909639019, pvalue=0.061014237663234494), SignificanceResult(statistic=0.13149198477441715, pvalue=0.003013652696761385), SignificanceResult(statistic=0.07430178562985569, pvalue=0.27031109505011736), SignificanceResult(statistic=0.05508580139122156, pvalue=0.4729294803580023), SignificanceResult(statistic=0.0431250609045777, pvalue=0.4478309275845692), SignificanceResult(statistic=0.15521985828117732, pvalue=0.005318949799719772), SignificanceResult(statistic=0.2205351226266135, pvalue=2.2394006800213254e-05), SignificanceResult(statistic=0.18150902802595695, pvalue=0.003632559237491155), SignificanceResult(statistic=0.2050360901923219, pvalue=0.0009680595823599481), SignificanceResult(statistic=0.22536402462566182, pvalue=2.694640059372886e-06), SignificanceResult(statistic=0.07972005388897917, pvalue=0.19157429373357707), SignificanceResult(statistic=0.09851033452532743, pvalue=0.09013964748676247), SignificanceResult(statistic=0.11040056839300912, pvalue=0.03032675867358266), SignificanceResult(statistic=0.07725358814677427, pvalue=0.06413904581609357), SignificanceResult(statistic=0.10621564244009117, pvalue=0.10660163563573369), SignificanceResult(statistic=0.11977731572157639, pvalue=0.08042457563179199), SignificanceResult(statistic=0.16907337697088273, pvalue=0.002526528567995171), SignificanceResult(statistic=0.03436466445761344, pvalue=0.5559254115289384), SignificanceResult(statistic=0.09680567292305206, pvalue=0.07595020808728978), SignificanceResult(statistic=0.11928836182415364, pvalue=0.02977244291597068), SignificanceResult(statistic=0.1525117264958794, pvalue=0.002528727562924069), SignificanceResult(statistic=0.21415317278960955, pvalue=0.00024496808021084613), SignificanceResult(statistic=0.16482310814405463, pvalue=0.008360750638372029), SignificanceResult(statistic=0.21965547883170125, pvalue=7.533965592167545e-06), SignificanceResult(statistic=0.21477506522381934, pvalue=0.006058909889342658), SignificanceResult(statistic=0.18862443280239966, pvalue=0.0012743869622131798), SignificanceResult(statistic=0.11067791868978229, pvalue=0.11778157415251035), SignificanceResult(statistic=0.0868936250340149, pvalue=0.18625420505923168), SignificanceResult(statistic=0.24668493236717112, pvalue=1.497173935674984e-05), SignificanceResult(statistic=0.1523910894583385, pvalue=0.010664181799659542), SignificanceResult(statistic=0.25253459754300045, pvalue=3.3669901749668096e-09), SignificanceResult(statistic=0.3175452069915971, pvalue=5.105669527920717e-10), SignificanceResult(statistic=0.13345863852096554, pvalue=0.012202944589776528), SignificanceResult(statistic=0.21614016953591458, pvalue=0.00010225617186628872), SignificanceResult(statistic=0.15171785680373315, pvalue=0.0038107983667651623), SignificanceResult(statistic=0.259767088154174, pvalue=1.0230397755650764e-07), SignificanceResult(statistic=0.3271858846173857, pvalue=6.178358288458718e-12), SignificanceResult(statistic=0.20355335648183737, pvalue=0.0017892062635019791), SignificanceResult(statistic=0.29916662281986856, pvalue=6.08074014840531e-12), SignificanceResult(statistic=0.3218695523246384, pvalue=1.994062023197501e-12), SignificanceResult(statistic=0.34519704948571617, pvalue=2.0958775375140487e-08), SignificanceResult(statistic=0.2762363210185505, pvalue=1.5712761388578196e-06), SignificanceResult(statistic=0.2331626356266763, pvalue=0.0012430580481703592), SignificanceResult(statistic=0.15253236228541722, pvalue=0.03022450378603454), SignificanceResult(statistic=0.2667526081200198, pvalue=1.1505910650791048e-06), SignificanceResult(statistic=0.26363300382603183, pvalue=8.791907289380408e-05), SignificanceResult(statistic=0.2435444282136135, pvalue=7.985242762905633e-05), SignificanceResult(statistic=0.2945717197110259, pvalue=4.179133736920008e-09), SignificanceResult(statistic=0.2555601774038617, pvalue=2.128991568728553e-08), SignificanceResult(statistic=0.1520098280349206, pvalue=0.034828290259315255), SignificanceResult(statistic=0.30670976141144846, pvalue=6.436495585171275e-10), SignificanceResult(statistic=0.18238843124192947, pvalue=6.923237204834032e-06), SignificanceResult(statistic=0.21160465163663159, pvalue=2.127728698623532e-07), SignificanceResult(statistic=0.22747419928383145, pvalue=0.004048174068331554), SignificanceResult(statistic=0.2895941322697667, pvalue=6.798548202983024e-09), SignificanceResult(statistic=0.08733391721049612, pvalue=0.24773029569031588), SignificanceResult(statistic=0.10830737290904112, pvalue=0.10208436044264636), SignificanceResult(statistic=0.2112463987848282, pvalue=0.0009679101455910524), SignificanceResult(statistic=0.033743569626314036, pvalue=0.6243371724786545), SignificanceResult(statistic=0.3168812197238884, pvalue=2.739268385079417e-13), SignificanceResult(statistic=0.27130191074587734, pvalue=3.802607669147766e-20), SignificanceResult(statistic=0.17936678523075691, pvalue=0.008698538091284685), SignificanceResult(statistic=0.17255520366933508, pvalue=0.008161269358813998), SignificanceResult(statistic=0.13137752512351344, pvalue=0.038297272219836614), SignificanceResult(statistic=0.07169675391078507, pvalue=0.2171787023250498), SignificanceResult(statistic=0.2515909542014444, pvalue=5.3636583104950304e-05), SignificanceResult(statistic=0.03642759561304453, pvalue=0.5809244092396757), SignificanceResult(statistic=0.2584132876291284, pvalue=1.1003187906216492e-08), SignificanceResult(statistic=0.22634905633639052, pvalue=1.0408539887360708e-06), SignificanceResult(statistic=0.28482924374296026, pvalue=5.753364627472429e-19), SignificanceResult(statistic=0.17488427896086114, pvalue=0.009674255643454338), SignificanceResult(statistic=0.24952677958384695, pvalue=2.0953809981182057e-08), SignificanceResult(statistic=0.12920625941931357, pvalue=0.0865305323228757), SignificanceResult(statistic=0.2819644528637021, pvalue=5.800760417391115e-07), SignificanceResult(statistic=0.25740482976743234, pvalue=0.0005230826722826581), SignificanceResult(statistic=0.12320519165096452, pvalue=0.14408293594062682), SignificanceResult(statistic=0.10548166516064886, pvalue=0.12758248755615512), SignificanceResult(statistic=0.1904988447628063, pvalue=0.0019538390535303093), SignificanceResult(statistic=0.077486398748728, pvalue=0.21302754888196912), SignificanceResult(statistic=0.22441960825886184, pvalue=4.025226330405242e-16), SignificanceResult(statistic=0.14489681724576162, pvalue=0.008486099365005613), SignificanceResult(statistic=0.2325436570850776, pvalue=3.3989408374488487e-09), SignificanceResult(statistic=0.0992393787653247, pvalue=0.07959702601657552), SignificanceResult(statistic=0.24535636094141644, pvalue=5.353382524749905e-06), SignificanceResult(statistic=0.16608912881770832, pvalue=0.007508087626202261), SignificanceResult(statistic=0.02118654715849644, pvalue=0.7212655442728649), SignificanceResult(statistic=0.24132119148376857, pvalue=1.2982559023936654e-29), SignificanceResult(statistic=0.19853565395666828, pvalue=0.0007341128820364174), SignificanceResult(statistic=0.24172897804948426, pvalue=3.736314896010818e-12), SignificanceResult(statistic=0.18329475635164305, pvalue=3.4751146123121225e-05), SignificanceResult(statistic=0.19254250767644407, pvalue=0.0001276246651619568), SignificanceResult(statistic=0.2940126991845249, pvalue=9.951934226824032e-14), SignificanceResult(statistic=0.28073634595544084, pvalue=5.2094236271224e-09), SignificanceResult(statistic=0.21279461489294368, pvalue=2.997951868794129e-07), SignificanceResult(statistic=0.2661010219246796, pvalue=6.803414857022967e-08)]\n",
      "100\n"
     ]
    }
   ],
   "source": [
    "# individual statistics for spearman\n",
    "\n",
    "gt_copy = gt\n",
    "pred_copy = pred\n",
    "\n",
    "avg_st = []\n",
    "\n",
    "for i in range(N):\n",
    "\n",
    "        # check if this timepoint is associated with values\n",
    "    if not torch.all(gt_copy[i] == 0):\n",
    "        gene_ex_vec = gt_copy[i]\n",
    "        pred_ex_vec = pred_copy[i]\n",
    "        nonzero_mask = torch.where(gene_ex_vec != 0, 1, 0)\n",
    "        partial_gene_ex = torch.masked_select(gene_ex_vec, nonzero_mask.bool())\n",
    "        partial_pred_ex = torch.masked_select(pred_ex_vec, nonzero_mask.bool())\n",
    "\n",
    "        # check correlation to compute\n",
    "        if len(partial_gene_ex) > 1:\n",
    "            avg_st.append(spearmanr(partial_gene_ex.detach().numpy(), partial_pred_ex.detach().numpy()))\n",
    "print(avg_st)\n",
    "print(len(avg_st))"
   ]
  },
  {
   "cell_type": "code",
   "execution_count": null,
   "id": "05bf5212-a11f-4ccd-849a-8a4bcdc04099",
   "metadata": {},
   "outputs": [],
   "source": []
  }
 ],
 "metadata": {
  "kernelspec": {
   "display_name": "Python 3 (ipykernel)",
   "language": "python",
   "name": "python3"
  },
  "language_info": {
   "codemirror_mode": {
    "name": "ipython",
    "version": 3
   },
   "file_extension": ".py",
   "mimetype": "text/x-python",
   "name": "python",
   "nbconvert_exporter": "python",
   "pygments_lexer": "ipython3",
   "version": "3.9.18"
  }
 },
 "nbformat": 4,
 "nbformat_minor": 5
}
