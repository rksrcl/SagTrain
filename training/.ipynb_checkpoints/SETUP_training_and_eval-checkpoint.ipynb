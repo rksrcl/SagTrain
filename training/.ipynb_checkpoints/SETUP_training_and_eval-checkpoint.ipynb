{
 "cells": [
  {
   "cell_type": "code",
   "execution_count": 1,
   "id": "6663c029-2346-4603-8688-18ef4a0a1887",
   "metadata": {},
   "outputs": [],
   "source": [
    "from scipy.stats import spearmanr\n",
    "import pandas as pd\n",
    "import numpy as np\n",
    "import logging\n",
    "import torch\n",
    "import csv\n",
    "from tqdm import tqdm\n",
    "import anndata as ad\n",
    "import scipy.sparse as sp\n",
    "from scipy.io import mmwrite\n",
    "from io import StringIO\n",
    "from evaluate_results import get_ranked_pearson_corr\n",
    "from evaluate_results import compute_rmse\n",
    "\n",
    "\n",
    "import matplotlib.pyplot as plt\n",
    "from sklearn.manifold import TSNE\n",
    "import seaborn as sns\n",
    "from collections import defaultdict\n",
    "\n",
    "import sys\n",
    "import os\n",
    "\n",
    "sys.path.append(os.path.join(sys.path[0], '../'))\n",
    "from model.manager_for_sagittarius import Sagittarius_Manager\n",
    "\n",
    "columns_metadata = pd.read_csv(\"/Users/jc/Documents/GitHub/Sagittarius/EvoDevo/dataset/GSE190147_scirnaseq_gene_matrix.columns.csv\", delimiter=\"\\t\")\n",
    "rows_metadata = pd.read_csv(\"/Users/jc/Documents/GitHub/Sagittarius/EvoDevo/dataset/GSE190147_scirnaseq_gene_matrix.rows.csv\", delimiter=\"\\t\")\n",
    "gene_expression_matrix = pd.read_csv(\"/Users/jc/Documents/GitHub/Sagittarius/EvoDevo/dataset/GSE190147_scirnaseq_gene_matrix.txt\", delimiter=\" \")\n",
    "gene_expression_matrix_file = \"/Users/jc/Documents/GitHub/Sagittarius/EvoDevo/dataset/GSE190147_scirnaseq_gene_matrix.txt\"\n",
    "columns_metadata_file = \"/Users/jc/Documents/GitHub/Sagittarius/EvoDevo/dataset/GSE190147_scirnaseq_gene_matrix.columns.csv\"\n",
    "rows_metadata_file = \"/Users/jc/Documents/GitHub/Sagittarius/EvoDevo/dataset/GSE190147_scirnaseq_gene_matrix.rows.csv\"\n",
    "gene_expression_mtx = \"/Users/jc/Documents/GitHub/Sagittarius/GSE190147_scirnaseq_gene_matrix.mtx\"\n",
    "\n",
    "df = pd.read_csv('/Users/jc/Documents/GitHub/Sagittarius/935117.csv')"
   ]
  },
  {
   "cell_type": "code",
   "execution_count": 2,
   "id": "c991e6f2-0f07-4640-9272-5d3fed41f646",
   "metadata": {},
   "outputs": [],
   "source": [
    "# create set of wanted cell identifiers\n",
    "cell_types = set()\n",
    "for cell_value in df['cell']:\n",
    "    cell_types.add(cell_value)\n",
    "\n",
    "# gather wanted row indices by checking if the column_metadata cell identifier is in the wanted cell identifiers\n",
    "wanted_values = set()\n",
    "for index, cell_id in enumerate(columns_metadata['cell']):\n",
    "    if cell_id in cell_types:\n",
    "        wanted_values.add(index)\n",
    "\n",
    "# map to seurat cluster. important for generating ys\n",
    "\n",
    "shortened_meta = '/Users/jc/Documents/GitHub/Sagittarius/935117.csv'\n",
    "\n",
    "cell_type_mapping = {}\n",
    "\n",
    "with open(shortened_meta, newline='') as csvfile:\n",
    "    csv_reader = csv.DictReader(csvfile)\n",
    "\n",
    "    for row in csv_reader:\n",
    "        cell = row['cell']\n",
    "        seurat_cluster = row['seurat_clusters']\n",
    "\n",
    "        cell_type_mapping[cell] = int(seurat_cluster)\n",
    "\n",
    "with open('seurat_clusters_dict.txt', 'w') as file:\n",
    "    for key, value in cell_type_mapping.items():\n",
    "        file.write(f'{key}: {value}\\n')"
   ]
  },
  {
   "cell_type": "code",
   "execution_count": 3,
   "id": "cd7719f2-5403-462d-85e4-8b822219acc5",
   "metadata": {},
   "outputs": [],
   "source": [
    "# 5 timepoints\n",
    "timepoints = ['hrs_00_02', 'hrs_01_03', 'hrs_02_04', 'hrs_03_07', 'hrs_04_08']\n",
    "\n",
    "time_mapping = {\n",
    "    'hrs_00_02': 0,\n",
    "    'hrs_01_03': 1,\n",
    "    'hrs_02_04': 2,\n",
    "    'hrs_03_07': 3, \n",
    "    'hrs_04_08': 4, \n",
    "    'hrs_06_10': 5, \n",
    "    'hrs_08_12': 6,\n",
    "    'hrs_10_14': 7,\n",
    "    'hrs_12_16': 8, \n",
    "    'hrs_14_18': 9,\n",
    "    'hrs_16_20': 10, \n",
    "}"
   ]
  },
  {
   "cell_type": "code",
   "execution_count": 4,
   "id": "63d1c1bb-2fa3-4d5c-940e-9c1392928297",
   "metadata": {},
   "outputs": [
    {
     "name": "stdout",
     "output_type": "stream",
     "text": [
      "Ranbp9\n"
     ]
    }
   ],
   "source": [
    "# the genes for train expr (from rows_metadata)\n",
    "gene_types = {}\n",
    "counter = 0\n",
    "with open(\"/Users/jc/Documents/GitHub/Sagittarius/models/gene_names_100.csv\", newline='') as gene_file:\n",
    "    csv_reader = csv.reader(gene_file)\n",
    "    next(csv_reader, None)\n",
    "    for index, row in enumerate(csv_reader):\n",
    "        if index == 0:\n",
    "            print(row[0])\n",
    "        gene_name = row[0]\n",
    "        \n",
    "        if (gene_name not in gene_types):\n",
    "            gene_types[gene_name] = counter # this should be 0-based indexing\n",
    "            counter += 1\n",
    "\n",
    "gene_types = {key: int(value) for key, value in gene_types.items()}\n",
    "with open('gene_types_dict.txt', 'w') as file:\n",
    "    for key, value in gene_types.items():\n",
    "        file.write(f'{key}: {value}\\n')\n"
   ]
  },
  {
   "cell_type": "code",
   "execution_count": 5,
   "id": "52285f82-8a6b-4ffc-b149-5db47caf40ba",
   "metadata": {},
   "outputs": [],
   "source": [
    "# set stuff up\n",
    "N = len(cell_types) # number of samples\n",
    "T = 1\n",
    "M = len(gene_types)\n",
    "expr = torch.zeros(N, T, M)\n",
    "ys_tensor = torch.zeros(N, T)\n",
    "ts = torch.zeros(N, T)"
   ]
  },
  {
   "cell_type": "code",
   "execution_count": 6,
   "id": "611be34b-04cf-47da-9730-e2323aae365f",
   "metadata": {},
   "outputs": [
    {
     "name": "stdout",
     "output_type": "stream",
     "text": [
      "Ranbp9\n"
     ]
    },
    {
     "name": "stderr",
     "output_type": "stream",
     "text": [
      "Processing: 38422it [00:01, 34144.27it/s]\n"
     ]
    }
   ],
   "source": [
    "# main loop for populating expr\n",
    "gene_types = {}\n",
    "counter = 0\n",
    "with open(\"/Users/jc/Documents/GitHub/Sagittarius/models/gene_names_100.csv\", newline='') as gene_file:\n",
    "    csv_reader = csv.reader(gene_file)\n",
    "    next(csv_reader, None)\n",
    "    for index, row in enumerate(csv_reader):\n",
    "        if index == 0:\n",
    "            print(row[0])\n",
    "        gene_name = row[0]\n",
    "        \n",
    "        if (gene_name not in gene_types):\n",
    "            gene_types[gene_name] = counter # this should be 0-based indexing\n",
    "            counter += 1\n",
    "\n",
    "gene_types = {key: int(value) for key, value in gene_types.items()}\n",
    "\n",
    "\n",
    "N = len(cell_types) # number of samples\n",
    "T = len(timepoints)\n",
    "M = len(gene_types)\n",
    "expr = torch.zeros(N, T, M)\n",
    "ys_tensor = torch.zeros(N, T)\n",
    "ts = torch.zeros(N, T)\n",
    "\n",
    "counter = 0\n",
    "cell_id = dict()\n",
    "with open(\"/Users/jc/Documents/GitHub/Sagittarius/models/new_cell_types.csv\", \"r\") as matrix_file:\n",
    "    csv_reader = csv.reader(matrix_file)\n",
    "    next(csv_reader)\n",
    "\n",
    "    for line in tqdm(csv_reader, desc=\"Processing\"):\n",
    "        try:\n",
    "            row_idx, col_idx, value = map(int, line)\n",
    "                    \n",
    "        except ValueError as ve:\n",
    "            logging.error(f\"Error parsing line: {line.strip()} - {ve}\")\n",
    "            continue\n",
    "        \n",
    "        tp = columns_metadata.iloc[col_idx, 4]\n",
    "        \n",
    "        cell_type = columns_metadata.iloc[col_idx, 0] # when i say cell_type i mean id\n",
    "        cell_id[cell_type] = len(cell_id) # when i say cell_id dict, it holds cell ids and the order in which stuff was added\n",
    "        gene_name = rows_metadata.iloc[row_idx - 2, 0]\n",
    "        #if counter == 0:\n",
    "            #print(cell_type)\n",
    "        expr[len(cell_id) - 1, 0, gene_types[gene_name]] = value\n",
    "        \n",
    "        #print(cell_type_mapping[cell_type])\n",
    "\n",
    "        ys_tensor[cell_type_mapping[cell_type], 0] = cell_type_mapping[cell_type]\n",
    "        ts[cell_type_mapping[cell_type], 0] = time_mapping[tp]\n",
    "\n",
    "        if cell_type not in cell_types and not tp in timepoints:\n",
    "            print(\"ok now something's weird\")\n",
    "\n",
    "ys = [ys_tensor]"
   ]
  },
  {
   "cell_type": "code",
   "execution_count": 7,
   "id": "38aa3fc5-9016-4780-bf2e-e599b3c0bd20",
   "metadata": {},
   "outputs": [],
   "source": [
    "# motivation here is to just generate the cell_id thing through the loop once and have stuff in the same place in expr\n",
    "# so it's like not so rng\n",
    "\n",
    "with open('cell_ids_dict.txt', 'w') as file:\n",
    "    for key, value in cell_id.items():\n",
    "        file.write(f'{key}: {value}\\n')"
   ]
  },
  {
   "cell_type": "code",
   "execution_count": 8,
   "id": "f3b9c75f-5b53-4e42-afb3-2e4292b27e20",
   "metadata": {},
   "outputs": [],
   "source": [
    "# create mask\n",
    "mask = torch.zeros(N, T)\n",
    "for i in range(N):\n",
    "    for j in range(T):\n",
    "        if not (expr[i, j, :] == 0).all():\n",
    "            mask[i, j] = 1"
   ]
  },
  {
   "cell_type": "code",
   "execution_count": 9,
   "id": "7b7ac336-dc3b-4157-8b9b-9a1613f29ef3",
   "metadata": {},
   "outputs": [
    {
     "name": "stderr",
     "output_type": "stream",
     "text": [
      "  0%|                                                  | 0/1000 [00:00<?, ?it/s]/Users/jc/myenv/manager_for_sagittarius.py:215: UserWarning: To copy construct from a tensor, it is recommended to use sourceTensor.clone().detach() or sourceTensor.clone().detach().requires_grad_(True), rather than torch.tensor(sourceTensor).\n",
      "  x = torch.tensor(expr[bstart:bend], dtype=torch.float32).to(self.device) # Numpy don't have Float, unlike tensors\n",
      "/Users/jc/myenv/lib/python3.11/site-packages/torch/nn/modules/module.py:1518: UserWarning: Implicit dimension choice for softmax has been deprecated. Change the call to include dim=X as an argument.\n",
      "  return self._call_impl(*args, **kwargs)\n",
      "100%|███████████████████████████████████████| 1000/1000 [00:54<00:00, 18.34it/s]\n"
     ]
    },
    {
     "name": "stdout",
     "output_type": "stream",
     "text": [
      "torch.Size([100, 5731])\n"
     ]
    }
   ],
   "source": [
    "manager = Sagittarius_Manager(\n",
    "    input_dim=M,\n",
    "    num_classes=1, \n",
    "    class_sizes=[54],\n",
    "    cvae_catdims=[2],\n",
    "    cvae_hiddendims=[128, 64],\n",
    "    cvae_ld=32,\n",
    "    attn_heads=4,\n",
    "    num_ref_points=10,\n",
    "    temporal_dim=16,\n",
    "    tr_catdims=[8],\n",
    "    minT=0,\n",
    "    maxT=10, \n",
    "    device='cpu',\n",
    "    transformer_dim=None, # Not using encoder/decoder\n",
    "    batch_size=16,\n",
    "    beta=1.0,\n",
    "    train_transfer=False, \n",
    "    num_cont=1, # Only continuous variable is time\n",
    "    rec_loss='mse'\n",
    ")\n",
    "\n",
    "manager.train_model(expr, ts, ys, mask, reload=False, mfile=\"trained_model4.pth\", num_epochs=1000, lr=0.001)\n",
    "newpred = manager.reconstruct()\n",
    "print(newpred.shape)\n",
    "\n",
    "# ig just hold a copy for literally no reason at all\n",
    "pred = newpred\n",
    "\n",
    "gt = expr\n",
    "gt = torch.masked_select(expr,torch.stack([mask.bool() for _ in range(M)], dim = -1)).view(-1, M)\n",
    "\n",
    "# at this point pred = newpred, gt and pred have the same dimensions and are 2D"
   ]
  },
  {
   "cell_type": "code",
   "execution_count": 10,
   "id": "e8453494-a119-442c-a78a-6aaf78273123",
   "metadata": {},
   "outputs": [
    {
     "name": "stdout",
     "output_type": "stream",
     "text": [
      "[SignificanceResult(statistic=0.8252824130971429, pvalue=8.865564893140931e-51), SignificanceResult(statistic=0.8547159841398466, pvalue=3.1940992993971814e-130), SignificanceResult(statistic=0.8539239720937588, pvalue=7.289843650425341e-75), SignificanceResult(statistic=0.8694966305789625, pvalue=2.4911292413653712e-108), SignificanceResult(statistic=0.8664298687403662, pvalue=5.949845349946883e-75), SignificanceResult(statistic=0.8496264681866003, pvalue=1.5073779265954363e-60), SignificanceResult(statistic=0.8504329379665797, pvalue=2.491423629927154e-47), SignificanceResult(statistic=0.8345638650459208, pvalue=8.282107313717345e-118), SignificanceResult(statistic=0.8735803563638205, pvalue=3.5121964857275334e-158), SignificanceResult(statistic=0.8277568414258824, pvalue=1.5196357297250423e-80), SignificanceResult(statistic=0.7702669272224361, pvalue=3.0149880862434236e-56), SignificanceResult(statistic=0.7324418257385974, pvalue=1.4879540655849316e-33), SignificanceResult(statistic=0.8932993349476, pvalue=2.4202613237927314e-117), SignificanceResult(statistic=0.7512249549277082, pvalue=3.86622504028608e-61), SignificanceResult(statistic=0.7380772432841595, pvalue=1.3381509537366395e-38), SignificanceResult(statistic=0.8666374586715709, pvalue=1.2946622424667966e-95), SignificanceResult(statistic=0.9080271224632913, pvalue=1.5814180584770218e-130), SignificanceResult(statistic=0.7917799154162183, pvalue=4.254285071482462e-91), SignificanceResult(statistic=0.7044786853528464, pvalue=6.120844545648798e-45), SignificanceResult(statistic=0.6560001549831347, pvalue=1.607442409322675e-23), SignificanceResult(statistic=0.6664462102734372, pvalue=5.489516884424877e-34), SignificanceResult(statistic=0.727562888033228, pvalue=1.8562932707023064e-43), SignificanceResult(statistic=0.8816590441615721, pvalue=4.472814616497504e-155), SignificanceResult(statistic=0.832709538499595, pvalue=6.588698458209548e-111), SignificanceResult(statistic=0.8311245487099548, pvalue=1.5233889581716744e-60), SignificanceResult(statistic=0.7813255281059024, pvalue=2.039718528131726e-57), SignificanceResult(statistic=0.7474432486886361, pvalue=3.619483601958545e-67), SignificanceResult(statistic=0.8623683909706227, pvalue=1.0318855486097029e-119), SignificanceResult(statistic=0.6676682314249826, pvalue=7.384152276359773e-33), SignificanceResult(statistic=0.6415156530635969, pvalue=7.804337503077017e-28), SignificanceResult(statistic=0.7848440925988879, pvalue=9.848992133614726e-100), SignificanceResult(statistic=0.8755503387195214, pvalue=3.775164010967675e-77), SignificanceResult(statistic=0.7765490283979625, pvalue=2.247768143912101e-67), SignificanceResult(statistic=0.7673155451260448, pvalue=8.677369380738623e-109), SignificanceResult(statistic=0.5103818074079609, pvalue=1.992803445087061e-22), SignificanceResult(statistic=0.5962508076167502, pvalue=1.4819452340481918e-30), SignificanceResult(statistic=0.5311339780822145, pvalue=1.7896356915096093e-20), SignificanceResult(statistic=0.4747685471913574, pvalue=9.676885050976125e-16), SignificanceResult(statistic=0.3334790490634254, pvalue=9.508090933124157e-08), SignificanceResult(statistic=0.532444954905, pvalue=5.0601813888472576e-24), SignificanceResult(statistic=0.4843475239378321, pvalue=4.733981545166538e-16), SignificanceResult(statistic=0.82849649820308, pvalue=4.498493099246361e-58), SignificanceResult(statistic=0.8025362275449576, pvalue=8.436278981879385e-51), SignificanceResult(statistic=0.7119753803458514, pvalue=1.0025958050281347e-40), SignificanceResult(statistic=0.7678284813257596, pvalue=1.5224752146385755e-73), SignificanceResult(statistic=0.9011427699130019, pvalue=4.51054425525369e-73), SignificanceResult(statistic=0.7203594962737611, pvalue=2.8015092498113834e-45), SignificanceResult(statistic=0.6925910825299643, pvalue=4.757980786260057e-31), SignificanceResult(statistic=0.7865595877185131, pvalue=2.860180909185575e-38), SignificanceResult(statistic=0.8302613551200893, pvalue=6.102346150563393e-54), SignificanceResult(statistic=0.7386666337943995, pvalue=9.867913034904029e-67), SignificanceResult(statistic=0.6326001855537806, pvalue=3.7980307416977814e-32), SignificanceResult(statistic=0.612740901440658, pvalue=2.0425216343516678e-22), SignificanceResult(statistic=0.8576852251528836, pvalue=1.2172175252665853e-119), SignificanceResult(statistic=0.7869820954405544, pvalue=2.3580699205316183e-54), SignificanceResult(statistic=0.7810115865783765, pvalue=4.343146503169173e-63), SignificanceResult(statistic=0.7082392807873552, pvalue=1.244754672625445e-77), SignificanceResult(statistic=0.5894983054769742, pvalue=3.278022376630116e-30), SignificanceResult(statistic=0.8251951893519345, pvalue=1.0714171647104419e-66), SignificanceResult(statistic=0.6988822800713863, pvalue=6.873613332076705e-35), SignificanceResult(statistic=0.7145954584649288, pvalue=1.0311089134417504e-32), SignificanceResult(statistic=0.7520288355194376, pvalue=2.4450599425752034e-43), SignificanceResult(statistic=0.8691663873989875, pvalue=1.6808905643245467e-134), SignificanceResult(statistic=0.5382214494584848, pvalue=5.582571060766749e-25), SignificanceResult(statistic=0.6592886610048452, pvalue=6.206192296529618e-32), SignificanceResult(statistic=0.42331076116743027, pvalue=1.4916400650741125e-12), SignificanceResult(statistic=0.7930150483416548, pvalue=2.651265768413888e-47), SignificanceResult(statistic=0.8534442294576334, pvalue=2.5425431195512884e-38), SignificanceResult(statistic=0.8746406548782, pvalue=1.8754501496296041e-94), SignificanceResult(statistic=0.769295631532597, pvalue=4.981125955654574e-165), SignificanceResult(statistic=0.9009912058771983, pvalue=1.950954037069282e-256), SignificanceResult(statistic=0.9049994022362402, pvalue=8.473844432139548e-166), SignificanceResult(statistic=0.8489793539447709, pvalue=7.105162240059759e-88), SignificanceResult(statistic=0.6583175585458595, pvalue=1.2165518025600232e-53), SignificanceResult(statistic=0.8546204432451935, pvalue=1.8803256512755503e-128), SignificanceResult(statistic=0.4358390020638131, pvalue=2.858020933336351e-14), SignificanceResult(statistic=0.8735556421042182, pvalue=7.277211216760269e-90), SignificanceResult(statistic=0.8669358192746909, pvalue=1.1112665061260462e-52), SignificanceResult(statistic=0.8480879748287113, pvalue=1.5583488794408337e-51), SignificanceResult(statistic=0.5968799347510456, pvalue=1.0824439023421691e-31), SignificanceResult(statistic=0.8112430507843763, pvalue=5.478494768298934e-56), SignificanceResult(statistic=0.686872709266027, pvalue=8.177586748729984e-30), SignificanceResult(statistic=0.8559880579464764, pvalue=4.149133431670098e-120), SignificanceResult(statistic=0.7405388317655153, pvalue=7.45029435344807e-75), SignificanceResult(statistic=0.668675322521501, pvalue=1.1358934964253396e-76), SignificanceResult(statistic=0.6597743574842821, pvalue=3.3108121571571075e-52), SignificanceResult(statistic=0.6556937781575387, pvalue=7.562690037195966e-65), SignificanceResult(statistic=0.6493993043241252, pvalue=1.1004944242417998e-34), SignificanceResult(statistic=0.8514322625980856, pvalue=0.0), SignificanceResult(statistic=0.9255482436721721, pvalue=0.0), SignificanceResult(statistic=0.7875073154227318, pvalue=7.410073433532971e-189), SignificanceResult(statistic=0.8101368446735381, pvalue=2.5674051034922143e-209), SignificanceResult(statistic=0.8286725868240195, pvalue=6.3739072708909656e-301), SignificanceResult(statistic=0.7712683812807246, pvalue=9.564322038674207e-202), SignificanceResult(statistic=0.8498481977713234, pvalue=0.0), SignificanceResult(statistic=0.6463753508898165, pvalue=1.515150210527429e-29), SignificanceResult(statistic=0.6631482632400559, pvalue=1.9824505778627942e-67), SignificanceResult(statistic=0.8406540206558045, pvalue=2.5842220256307387e-100), SignificanceResult(statistic=0.7578952904985479, pvalue=5.090229571915458e-68), SignificanceResult(statistic=0.876696240784513, pvalue=1.314704603208287e-84)]\n",
      "100\n"
     ]
    }
   ],
   "source": [
    "# individual statistics for spearman\n",
    "\n",
    "gt_copy = gt\n",
    "pred_copy = pred\n",
    "\n",
    "avg_st = []\n",
    "\n",
    "for i in range(100):\n",
    "\n",
    "        # Check if this timepoint is associated with values\n",
    "    if not torch.all(gt_copy[i] == 0):\n",
    "        gene_ex_vec = gt_copy[i]\n",
    "        pred_ex_vec = pred_copy[i]\n",
    "        nonzero_mask = torch.where(gene_ex_vec != 0, 1, 0)\n",
    "        partial_gene_ex = torch.masked_select(gene_ex_vec, nonzero_mask.bool())\n",
    "        partial_pred_ex = torch.masked_select(pred_ex_vec, nonzero_mask.bool())\n",
    "\n",
    "        # See if there's actual correlation to compute ?\n",
    "        if len(partial_gene_ex) > 1:\n",
    "            avg_st.append(spearmanr(partial_gene_ex.detach().numpy(), partial_pred_ex.detach().numpy()))\n",
    "print(avg_st)\n",
    "print(len(avg_st))"
   ]
  }
 ],
 "metadata": {
  "kernelspec": {
   "display_name": "Python 3 (ipykernel)",
   "language": "python",
   "name": "python3"
  },
  "language_info": {
   "codemirror_mode": {
    "name": "ipython",
    "version": 3
   },
   "file_extension": ".py",
   "mimetype": "text/x-python",
   "name": "python",
   "nbconvert_exporter": "python",
   "pygments_lexer": "ipython3",
   "version": "3.9.18"
  }
 },
 "nbformat": 4,
 "nbformat_minor": 5
}
