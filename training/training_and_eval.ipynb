{
 "cells": [
  {
   "cell_type": "code",
   "execution_count": 2,
   "id": "6663c029-2346-4603-8688-18ef4a0a1887",
   "metadata": {},
   "outputs": [],
   "source": [
    "from scipy.stats import spearmanr\n",
    "import pandas as pd\n",
    "import numpy as np\n",
    "import logging\n",
    "import torch\n",
    "import csv\n",
    "from tqdm import tqdm\n",
    "import anndata as ad\n",
    "import scipy.sparse as sp\n",
    "from scipy.io import mmwrite\n",
    "from io import StringIO\n",
    "from evaluate_results import get_ranked_pearson_corr\n",
    "from evaluate_results import compute_rmse\n",
    "from evaluate_results import get_ranked_spearman_corr\n",
    "import matplotlib.pyplot as plt\n",
    "from sklearn.manifold import TSNE\n",
    "import seaborn as sns\n",
    "from collections import defaultdict\n",
    "\n",
    "import sys\n",
    "import os\n",
    "\n",
    "sys.path.append(os.path.join(sys.path[0], '../'))\n",
    "from model.manager_for_sagittarius import Sagittarius_Manager\n",
    "\n",
    "columns_metadata = pd.read_csv(\"../data_utils/data/static/GSE190147_scirnaseq_gene_matrix.columns.csv\", delimiter=\"\\t\")\n",
    "rows_metadata = pd.read_csv(\"../data_utils/data/static/GSE190147_scirnaseq_gene_matrix.rows.csv\", delimiter=\"\\t\")\n",
    "gene_expression_matrix = pd.read_csv(\"../data_utils/data/static/GSE190147_scirnaseq_gene_matrix.txt\", delimiter=\" \")\n",
    "gene_expression_matrix_file = \"../data_utils/data/static/GSE190147_scirnaseq_gene_matrix.txt\"\n",
    "columns_metadata_file = \"../data_utils/data/static/GSE190147_scirnaseq_gene_matrix.columns.csv\"\n",
    "rows_metadata_file = \"../data_utils/data/static/GSE190147_scirnaseq_gene_matrix.rows.csv\"\n",
    "gene_expression_mtx = \"../data_utils/data/static/GSE190147_scirnaseq_gene_matrix.mtx\"\n"
   ]
  },
  {
   "cell_type": "code",
   "execution_count": 5,
   "id": "c991e6f2-0f07-4640-9272-5d3fed41f646",
   "metadata": {},
   "outputs": [],
   "source": [
    "# map cell id to seurat cluster\n",
    "\n",
    "cell_type_mapping = {}\n",
    "with open('../data_utils/data/exp1/seurat_clusters_dict.txt', 'r') as file:\n",
    "    for line in file:\n",
    "        parts = line.strip().split(': ')\n",
    "        key = parts[0].strip()\n",
    "        value = int(parts[1].strip())\n",
    "        cell_type_mapping[key] = value\n"
   ]
  },
  {
   "cell_type": "code",
   "execution_count": 3,
   "id": "cd7719f2-5403-462d-85e4-8b822219acc5",
   "metadata": {},
   "outputs": [],
   "source": [
    "# 5 timepoints\n",
    "timepoints = ['hrs_00_02', 'hrs_01_03', 'hrs_02_04', 'hrs_03_07', 'hrs_04_08']\n",
    "\n",
    "time_mapping = {\n",
    "    'hrs_00_02': 0,\n",
    "    'hrs_01_03': 1,\n",
    "    'hrs_02_04': 2,\n",
    "    'hrs_03_07': 3, \n",
    "    'hrs_04_08': 4, \n",
    "    'hrs_06_10': 5, \n",
    "    'hrs_08_12': 6,\n",
    "    'hrs_10_14': 7,\n",
    "    'hrs_12_16': 8, \n",
    "    'hrs_14_18': 9,\n",
    "    'hrs_16_20': 10, \n",
    "}"
   ]
  },
  {
   "cell_type": "code",
   "execution_count": 4,
   "id": "63d1c1bb-2fa3-4d5c-940e-9c1392928297",
   "metadata": {},
   "outputs": [],
   "source": [
    "# create mapping for the genes for train expr\n",
    "# 'gene_types_dict.txt' - as created by create_gene_dict()\n",
    "\n",
    "gene_types = {}\n",
    "with open('../data_utils/data/static/GENES_MAPPING_FINAL.txt', 'r') as file:\n",
    "    for line in file:\n",
    "        parts = line.strip().split(': ')\n",
    "        key = parts[0].strip()\n",
    "        value = int(parts[1].strip())\n",
    "        gene_types[key] = value\n"
   ]
  },
  {
   "cell_type": "code",
   "execution_count": 32,
   "id": "393f05bb-046c-422e-8f6f-e554d2d1ca51",
   "metadata": {},
   "outputs": [
    {
     "data": {
      "text/plain": [
       "\"\\n\\ncell_id = {}\\nwith open('cell_ids_dict.txt', 'r') as file:\\n    for line in file:\\n        parts = line.strip().split(': ')\\n        key = parts[0].strip()\\n        value = int(parts[1].strip())\\n        cell_id[key] = value\\n\""
      ]
     },
     "execution_count": 32,
     "metadata": {},
     "output_type": "execute_result"
    }
   ],
   "source": [
    "# set up which indices cell ids will match to\n",
    "# shouldn't matter as much though\n",
    "\"\"\"\n",
    "\n",
    "cell_id = {}\n",
    "with open('cell_ids_dict.txt', 'r') as file:\n",
    "    for line in file:\n",
    "        parts = line.strip().split(': ')\n",
    "        key = parts[0].strip()\n",
    "        value = int(parts[1].strip())\n",
    "        cell_id[key] = value\n",
    "\"\"\"\n"
   ]
  },
  {
   "cell_type": "code",
   "execution_count": 11,
   "id": "52285f82-8a6b-4ffc-b149-5db47caf40ba",
   "metadata": {},
   "outputs": [],
   "source": [
    "# set up training inputs\n",
    "N = 100 # number of samples\n",
    "T = 1\n",
    "M = len(gene_types)\n",
    "expr = torch.zeros(N, T, M)\n",
    "ys_tensor = torch.zeros(N, T)\n",
    "ts = torch.zeros(N, T)"
   ]
  },
  {
   "cell_type": "code",
   "execution_count": 13,
   "id": "611be34b-04cf-47da-9730-e2323aae365f",
   "metadata": {},
   "outputs": [
    {
     "name": "stderr",
     "output_type": "stream",
     "text": [
      "Processing: 36333it [00:02, 15335.89it/s]"
     ]
    },
    {
     "name": "stdout",
     "output_type": "stream",
     "text": [
      "100\n"
     ]
    },
    {
     "name": "stderr",
     "output_type": "stream",
     "text": [
      "\n"
     ]
    }
   ],
   "source": [
    "# main loop for populating expr\n",
    "cell_id = set()\n",
    "\n",
    "with open(\"../data_utils/data/exp1/exp1_filtered_matrix.csv\", \"r\") as matrix_file:\n",
    "    csv_reader = csv.reader(matrix_file)\n",
    "    next(csv_reader)\n",
    "\n",
    "    for line in tqdm(csv_reader, desc=\"Processing\"):\n",
    "        try:\n",
    "            row_idx, col_idx, value = map(int, line)\n",
    "                    \n",
    "        except ValueError as ve:\n",
    "            logging.error(f\"Error parsing line: {line.strip()} - {ve}\")\n",
    "            continue\n",
    "        \n",
    "        tp = columns_metadata.iloc[col_idx, 4]\n",
    "        \n",
    "        cell_type = columns_metadata.iloc[col_idx, 0] # when i say cell_type i mean id\n",
    "        gene_name = rows_metadata.iloc[row_idx - 2, 0]\n",
    "\n",
    "        # sanity check\n",
    "        # assert (expr[cell_id[cell_type] - 1, 0, gene_types[gene_name]] != 0)\n",
    "        # assert(expr[[counter], 0, gene_types[gene_name]] != 0)\n",
    "        cell_id.add(cell_type)\n",
    "        expr[len(cell_id) - 1, 0, gene_types[gene_name]] = value\n",
    "        ys_tensor[len(cell_id) - 1, 0] = cell_type_mapping[cell_type]\n",
    "        ts[len(cell_id) - 1, 0] = time_mapping[tp]\n",
    "        \n",
    "print(len(cell_id))\n",
    "ys = [ys_tensor]"
   ]
  },
  {
   "cell_type": "code",
   "execution_count": 15,
   "id": "f3b9c75f-5b53-4e42-afb3-2e4292b27e20",
   "metadata": {},
   "outputs": [],
   "source": [
    "# create mask\n",
    "mask = torch.zeros(N, T)\n",
    "for i in range(N):\n",
    "    for j in range(T):\n",
    "        if not (expr[i, j, :] == 0).all():\n",
    "            mask[i, j] = 1"
   ]
  },
  {
   "cell_type": "code",
   "execution_count": 17,
   "id": "7b7ac336-dc3b-4157-8b9b-9a1613f29ef3",
   "metadata": {},
   "outputs": [
    {
     "name": "stdout",
     "output_type": "stream",
     "text": [
      "h\n"
     ]
    },
    {
     "name": "stderr",
     "output_type": "stream",
     "text": [
      "100%|███████████████████████████████████████| 1000/1000 [01:35<00:00, 10.47it/s]\n"
     ]
    }
   ],
   "source": [
    "manager = Sagittarius_Manager(\n",
    "    input_dim=M,\n",
    "    num_classes=1, \n",
    "    class_sizes=[54],\n",
    "    cvae_catdims=[2],\n",
    "    cvae_hiddendims=[128, 64],\n",
    "    cvae_ld=32,\n",
    "    attn_heads=4,\n",
    "    num_ref_points=10,\n",
    "    temporal_dim=16,\n",
    "    tr_catdims=[8],\n",
    "    minT=0,\n",
    "    maxT=10, \n",
    "    device='cpu',\n",
    "    transformer_dim=None, # Not using encoder/decoder for this experiment\n",
    "    batch_size=16,\n",
    "    beta=1.0,\n",
    "    train_transfer=False, \n",
    "    num_cont=1, # Only continuous variable is time\n",
    "    rec_loss='mse'\n",
    ")\n",
    "\n",
    "weights = '11313exp1.pth'\n",
    "manager.train_model(expr, ts, ys, mask, reload=False, mfile=weights, num_epochs=1000, lr=0.001)"
   ]
  },
  {
   "cell_type": "code",
   "execution_count": 5,
   "id": "aef6ae8a-256f-4fb5-a6d3-bdbd5a163a21",
   "metadata": {},
   "outputs": [
    {
     "name": "stderr",
     "output_type": "stream",
     "text": [
      "Processing: 37078it [00:02, 15774.93it/s]"
     ]
    },
    {
     "name": "stdout",
     "output_type": "stream",
     "text": [
      "100\n"
     ]
    },
    {
     "name": "stderr",
     "output_type": "stream",
     "text": [
      "\n"
     ]
    }
   ],
   "source": [
    "# set up test set training\n",
    "\n",
    "N = 100 # number of samples\n",
    "T = 1\n",
    "M = len(gene_types)\n",
    "test_expr = torch.zeros(N, T, M)\n",
    "test_ys_tensor = torch.zeros(N, T)\n",
    "test_ts = torch.zeros(N, T)\n",
    "\n",
    "cell_type_mapping = {}\n",
    "with open('../data_utils/data/exp1/seurat_clusters_dict_TEST.txt', 'r') as file:\n",
    "    for line in file:\n",
    "        parts = line.strip().split(': ')\n",
    "        key = parts[0].strip()\n",
    "        value = int(parts[1].strip())\n",
    "        cell_type_mapping[key] = value\n",
    "\n",
    "cell_id = set()\n",
    "with open(\"../data_utils/data/exp1/exp1_filtered_matrix_TEST.csv\", \"r\") as matrix_file:\n",
    "    csv_reader = csv.reader(matrix_file)\n",
    "    next(csv_reader)\n",
    "\n",
    "    for line in tqdm(csv_reader, desc=\"Processing\"):\n",
    "        try:\n",
    "            row_idx, col_idx, value = map(int, line)\n",
    "                    \n",
    "        except ValueError as ve:\n",
    "            logging.error(f\"Error parsing line: {line.strip()} - {ve}\")\n",
    "            continue\n",
    "        \n",
    "        tp = columns_metadata.iloc[col_idx, 4]\n",
    "        \n",
    "        cell_type = columns_metadata.iloc[col_idx, 0] # when i say cell_type i mean id\n",
    "        gene_name = rows_metadata.iloc[row_idx - 2, 0]\n",
    "\n",
    "        cell_id.add(cell_type)\n",
    "        test_expr[len(cell_id) - 1, 0, gene_types[gene_name]] = value\n",
    "        test_ys_tensor[len(cell_id) - 1, 0] = cell_type_mapping[cell_type]\n",
    "        test_ts[len(cell_id) - 1, 0] = time_mapping[tp]\n",
    "        \n",
    "print(len(cell_id))\n",
    "test_ys = [test_ys_tensor]\n",
    "test_mask = torch.zeros(N, T)\n",
    "for i in range(N):\n",
    "    for j in range(T):\n",
    "        if not (test_expr[i, j, :] == 0).all():\n",
    "            test_mask[i, j] = 1"
   ]
  },
  {
   "cell_type": "code",
   "execution_count": 6,
   "id": "e76a0ae3-9957-42fa-ab26-a5c1541e1684",
   "metadata": {},
   "outputs": [
    {
     "name": "stderr",
     "output_type": "stream",
     "text": [
      "/homes/gws/jc383/WindowsFolders/Desktop/DrosSag/lib64/python3.9/site-packages/torch/nn/modules/module.py:1518: UserWarning: Implicit dimension choice for softmax has been deprecated. Change the call to include dim=X as an argument.\n",
      "  return self._call_impl(*args, **kwargs)\n"
     ]
    },
    {
     "name": "stdout",
     "output_type": "stream",
     "text": [
      "h\n",
      "torch.Size([100, 21216])\n"
     ]
    }
   ],
   "source": [
    "manager = Sagittarius_Manager(\n",
    "    input_dim=M,\n",
    "    num_classes=1, \n",
    "    class_sizes=[54],\n",
    "    cvae_catdims=[2],\n",
    "    cvae_hiddendims=[128, 64],\n",
    "    cvae_ld=32,\n",
    "    attn_heads=4,\n",
    "    num_ref_points=10,\n",
    "    temporal_dim=16,\n",
    "    tr_catdims=[8],\n",
    "    minT=0,\n",
    "    maxT=10, \n",
    "    device='cpu',\n",
    "    transformer_dim=None, # Not using encoder/decoder for this experiment\n",
    "    batch_size=16,\n",
    "    beta=1.0,\n",
    "    train_transfer=False, \n",
    "    num_cont=1, # Only continuous variable is time\n",
    "    rec_loss='mse'\n",
    ")\n",
    "weights = 'weights/11313exp1.pth'\n",
    "manager.train_model(test_expr, test_ts, test_ys, test_mask, reload=True, mfile=weights)\n",
    "newpred = manager.reconstruct()\n",
    "print(newpred.shape)\n",
    "\n",
    "# hold a copy\n",
    "pred = newpred\n",
    "\n",
    "gt = test_expr\n",
    "gt = torch.masked_select(test_expr,torch.stack([test_mask.bool() for _ in range(M)], dim = -1)).view(-1, M)\n",
    "\n",
    "# at this point pred = newpred, gt and pred have the same dimensions and are 2D"
   ]
  },
  {
   "cell_type": "code",
   "execution_count": null,
   "id": "9c941469-35e9-4eef-a5d4-61e5ad44ed90",
   "metadata": {},
   "outputs": [
    {
     "name": "stdout",
     "output_type": "stream",
     "text": [
      "100\n"
     ]
    }
   ],
   "source": [
    "correlation = get_ranked_spearman_corr(pred, gt, get_per_sequence=False)\n",
    "print(correlation)\n",
    "correlation = get_ranked_spearman_corr(pred, gt, get_per_sequence=True)\n",
    "print(correlation)"
   ]
  },
  {
   "cell_type": "code",
   "execution_count": null,
   "id": "e8453494-a119-442c-a78a-6aaf78273123",
   "metadata": {},
   "outputs": [],
   "source": [
    "# individual statistics for spearman\n",
    "\n",
    "gt_copy = gt\n",
    "pred_copy = pred\n",
    "\n",
    "avg_st = []\n",
    "\n",
    "for i in range(N):\n",
    "\n",
    "        # check if this timepoint is associated with values\n",
    "    if not torch.all(gt_copy[i] == 0):\n",
    "        gene_ex_vec = gt_copy[i]\n",
    "        pred_ex_vec = pred_copy[i]\n",
    "        nonzero_mask = torch.where(gene_ex_vec != 0, 1, 0)\n",
    "        partial_gene_ex = torch.masked_select(gene_ex_vec, nonzero_mask.bool())\n",
    "        partial_pred_ex = torch.masked_select(pred_ex_vec, nonzero_mask.bool())\n",
    "\n",
    "        # check correlation to compute\n",
    "        if len(partial_gene_ex) > 1:\n",
    "            avg_st.append(spearmanr(partial_gene_ex.detach().numpy(), partial_pred_ex.detach().numpy()))\n",
    "print(avg_st)\n",
    "print(len(avg_st))"
   ]
  },
  {
   "cell_type": "code",
   "execution_count": null,
   "id": "05bf5212-a11f-4ccd-849a-8a4bcdc04099",
   "metadata": {},
   "outputs": [],
   "source": []
  }
 ],
 "metadata": {
  "kernelspec": {
   "display_name": "Python 3 (ipykernel)",
   "language": "python",
   "name": "python3"
  },
  "language_info": {
   "codemirror_mode": {
    "name": "ipython",
    "version": 3
   },
   "file_extension": ".py",
   "mimetype": "text/x-python",
   "name": "python",
   "nbconvert_exporter": "python",
   "pygments_lexer": "ipython3",
   "version": "3.9.18"
  }
 },
 "nbformat": 4,
 "nbformat_minor": 5
}
